{
 "cells": [
  {
   "cell_type": "markdown",
   "metadata": {},
   "source": [
    "## Семинар 2 \"Распознавание рукописных цифр\""
   ]
  },
  {
   "cell_type": "markdown",
   "metadata": {},
   "source": [
    "ФИО: Белозёров Михаил Сергеевич"
   ]
  },
  {
   "cell_type": "markdown",
   "metadata": {},
   "source": [
    "В этом задании мы используем нейронную сеть из предыдущего семинара для распознавания рукописных цифр. Также мы исследуем как влияет выбор нелинейности и предобработка данных на качество классификации. \n",
    "\n",
    "Чтобы не тратить время на подготовку данных, мы прилагаем готовый код с примером использования для получения обучающей и тестовой выборок. Для запуска скрипта вам понадобится библиотека PyTorch (инструкции по установке можно найти на сайте <a href=\"http://pytorch.org\">pytorch.org</a>)"
   ]
  },
  {
   "cell_type": "code",
   "execution_count": 1,
   "metadata": {
    "collapsed": true
   },
   "outputs": [],
   "source": [
    "class Linear:\n",
    "    def __init__(self, input_size, output_size):\n",
    "        '''\n",
    "        Creates weights and biases for linear layer.\n",
    "        Dimention of inputs is *input_size*, of output: *output_size*.\n",
    "        '''\n",
    "        self.weights=np.random.rand (output_size, input_size)\n",
    "        self.weights=self.weights / 10\n",
    "        self.biases=np.zeros(output_size)\n",
    "    \n",
    "    def forward(self, X):\n",
    "        '''\n",
    "        Passes objects through this layer.\n",
    "        X is np.array of size (N, input_size).\n",
    "        Returns output of size (N, output_size).\n",
    "        Hint: You may need to store X for backward pass\n",
    "        '''\n",
    "        self.X=X\n",
    "        return X.dot(self.weights.T) + self.biases\n",
    "    \n",
    "    def forward_w(self, W):\n",
    "        return self.X.dot(W.T) + self.biases\n",
    "    \n",
    "    def backward(self, dLdy):\n",
    "        '''\n",
    "        1. Compute dLdw and dLdx.\n",
    "        2. Store dLdw for step() call\n",
    "        3. Return dLdx\n",
    "        '''\n",
    "        self.dLdw = np.dot(self.X.T, dLdy)\n",
    "        return dLdy.dot(self.weights)\n",
    "    \n",
    "    def step(self, learning_rate):\n",
    "        '''\n",
    "        1. Apply gradient dLdw to network:\n",
    "        w <- w - l*dLdw\n",
    "        '''\n",
    "        self.weights = self.weights - learning_rate * self.dLdw.T\n",
    "        \n",
    "        \n",
    "def sigma(x):\n",
    "    return 1. / (1 + np.exp(-x))\n",
    "\n",
    "\n",
    "class Sigmoid:\n",
    "    def __init__(self):\n",
    "        pass\n",
    "        \n",
    "    def forward(self, X):\n",
    "        '''\n",
    "        Passes objects through this layer.\n",
    "        X is np.array of size (N, d)\n",
    "        '''\n",
    "        self.X = X\n",
    "        return sigma(self.X)\n",
    "        \n",
    "    def backward(self, dLdy):\n",
    "        '''\n",
    "        1. Compute dLdx.\n",
    "        2. Return dLdx\n",
    "        '''\n",
    "        sigmoid_d = sigma(self.X) - np.power (sigma(self.X),2 )\n",
    "\n",
    "        return np.multiply(dLdy, sigmoid_d)\n",
    "    \n",
    "    def step(self, learning_rate):\n",
    "        pass\n",
    "    \n",
    "import sklearn.preprocessing\n",
    "def binarizer (Y):\n",
    "    label_binarizer = sklearn.preprocessing.LabelBinarizer()\n",
    "    label_binarizer.fit(range(ClassNum))\n",
    "    ret = label_binarizer.transform(Y)\n",
    "    return ret\n",
    "    return ret[:,:ret.shape[1] - 1]\n",
    "\n",
    "\n",
    "class NLLLoss:\n",
    "    def init(self):\n",
    "        '''\n",
    "        Applies Softmax operation to inputs and computes NLL loss\n",
    "        '''\n",
    "        pass\n",
    "    \n",
    "    def forward(self, X, y):\n",
    "        '''\n",
    "        Passes objects through this layer.\n",
    "        X is np.array of size (N, C), where C is the number of classes\n",
    "        y is np.array of size (N), contains correct labels\n",
    "        '''\n",
    "        self.bin = binarizer(y)\n",
    "        log_max = np.amax(X, 1)\n",
    "        summ = (X.T - log_max.T).T\n",
    "        logg = np.log(np.sum(np.exp(summ), axis=1))\n",
    "        summm = (logg.T + log_max.T).T        \n",
    "        self.p = np.exp((X.T - summm.T).T)\n",
    "        \n",
    "        return self.p\n",
    "    \n",
    "    def backward(self):\n",
    "        '''\n",
    "        Note that here dLdy = 1 since L = y\n",
    "        1. Compute dLdx\n",
    "        2. Return dLdx\n",
    "        '''\n",
    "        return self.p - self.bin\n",
    "    \n",
    "class NeuralNetwork:\n",
    "    def __init__(self, modules):\n",
    "        '''\n",
    "        Constructs network with *modules* as its layers\n",
    "        '''\n",
    "        self.modules = modules\n",
    "    \n",
    "    def forward(self, X):\n",
    "        res = X\n",
    "        for l in self.modules:\n",
    "            res = l.forward (res)\n",
    "        return res\n",
    "    \n",
    "    def backward(self, dLdy):\n",
    "        '''\n",
    "        dLdy here is a gradient from loss function\n",
    "        '''\n",
    "        newd = dLdy\n",
    "        for l in reversed (self.modules):\n",
    "            newd = l.backward (newd)\n",
    "        return newd\n",
    "    \n",
    "    def step(self, learning_rate):\n",
    "        for l in self.modules:\n",
    "            l.step (learning_rate)\n",
    "        pass"
   ]
  },
  {
   "cell_type": "code",
   "execution_count": 2,
   "metadata": {
    "collapsed": true
   },
   "outputs": [],
   "source": [
    "import matplotlib.pyplot as plt\n",
    "from torch.utils.data import DataLoader\n",
    "from torchvision.datasets import MNIST\n",
    "from torchvision import transforms\n",
    "import numpy as np\n",
    "import torch\n",
    "%matplotlib inline"
   ]
  },
  {
   "cell_type": "code",
   "execution_count": 3,
   "metadata": {
    "collapsed": true,
    "scrolled": true
   },
   "outputs": [],
   "source": [
    "to_numpy = lambda x: x.numpy()\n",
    "transform = transforms.Compose([\n",
    "                       transforms.ToTensor(),\n",
    "                       transforms.Normalize((0.1307,), (0.3081,))\n",
    "                    ])\n",
    "train_dataset = MNIST('.', train=True, download=True, transform=transform)\n",
    "test_dataset = MNIST('.', train=False, transform=transform)\n",
    "\n",
    "train_loader = DataLoader(train_dataset, batch_size=50, shuffle=True)\n",
    "test_loader = DataLoader(test_dataset, batch_size=1, shuffle=True)"
   ]
  },
  {
   "cell_type": "code",
   "execution_count": 4,
   "metadata": {
    "collapsed": true
   },
   "outputs": [],
   "source": [
    "## Usage example:\n",
    "for X, y in train_loader:\n",
    "    X = X.view(X.size(0), -1)\n",
    "    X = X.numpy() ### Converts torch.Tensor to numpy array\n",
    "    y = y.numpy()\n",
    "    pass"
   ]
  },
  {
   "cell_type": "code",
   "execution_count": 5,
   "metadata": {},
   "outputs": [
    {
     "data": {
      "image/png": "[encoded data removed]",
      "text/plain": [
       "<matplotlib.figure.Figure at 0x110ebad10>"
      ]
     },
     "metadata": {},
     "output_type": "display_data"
    }
   ],
   "source": [
    "plt.figure(figsize=(6, 7))\n",
    "for i in range(25):\n",
    "    plt.subplot(5, 5, i+1)\n",
    "    plt.imshow(X[i].reshape(28, 28), cmap=plt.cm.Greys_r)\n",
    "    plt.title(y[i])\n",
    "    plt.axis('off')"
   ]
  },
  {
   "cell_type": "markdown",
   "metadata": {},
   "source": [
    "### Часть 1: MNIST\n",
    "Обучите полносвязную нейронную сеть с архитектурой 784-100-100-10 и сигмоидой в качестве нелинейности. Какую точность классификации удалось получить? Нарисуйте график сходимости на обучающей и тестовой выборках. В качестве темпа обучения (learning rate) возьмите 0.01"
   ]
  },
  {
   "cell_type": "code",
   "execution_count": 6,
   "metadata": {
    "collapsed": true
   },
   "outputs": [],
   "source": [
    "import sys\n",
    "from tqdm import *\n",
    "from sklearn.metrics import log_loss"
   ]
  },
  {
   "cell_type": "code",
   "execution_count": 7,
   "metadata": {},
   "outputs": [],
   "source": [
    "ClassNum = 10\n",
    "def run_test (train_loader, nn):\n",
    "    ClassNum=10\n",
    "    error = []\n",
    "    x_error = []\n",
    "\n",
    "\n",
    "    prev = 10\n",
    "    it = 0\n",
    "    for epoch in trange (10, desc='Epoch'):\n",
    "        for X, y in train_loader:\n",
    "            X = X.view(X.size(0), -1)\n",
    "            X = X.numpy() ### Converts torch.Tensor to numpy array\n",
    "            y = y.numpy()\n",
    "            bina = binarizer (y)\n",
    "            res = nn.forward (X)\n",
    "            result_io = loss.forward(res, y)\n",
    "            error.append (log_loss(y, result_io, labels=[0, 1, 2, 3, 4, 5, 6, 7, 8, 9]))\n",
    "#             sys.stdout.write (('\\r {} {}').format (epoch, error[-1]))\n",
    "            nn.backward (loss.backward ())\n",
    "            nn.step (l_r)\n",
    "    \n",
    "    print (\"minimum loss: \", min(error))\n",
    "    plt.figure (figsize=(15,5))\n",
    "    plt.plot (error)\n",
    "    plt.show ()\n",
    "    \n",
    "    error = []\n",
    "    for X, y in test_loader:\n",
    "        X = X.view(X.size(0), -1)\n",
    "        X = X.numpy() ### Converts torch.Tensor to numpy array\n",
    "        y = y.numpy()\n",
    "        bina = binarizer (y)\n",
    "        res = nn.forward (X)\n",
    "        result_io = loss.forward(res, y)\n",
    "        error.append (log_loss(y, result_io, labels=[0, 1, 2, 3, 4, 5, 6, 7, 8, 9]))\n",
    "\n",
    "    print (\"max error: \", max(error))\n",
    "    print (\"mean error: \", np.array(error).mean ())\n",
    "\n",
    "\n",
    "    plt.figure (figsize=(15,5))\n",
    "    plt.hist (error, bins=1000, log=True)\n",
    "    plt.show ()\n"
   ]
  },
  {
   "cell_type": "code",
   "execution_count": 8,
   "metadata": {},
   "outputs": [
    {
     "name": "stderr",
     "output_type": "stream",
     "text": [
      "Epoch: 100%|██████████| 10/10 [01:11<00:00,  7.20s/it]"
     ]
    },
    {
     "name": "stdout",
     "output_type": "stream",
     "text": [
      "('minimum loss: ', 0.0054042711941339949)\n"
     ]
    },
    {
     "name": "stderr",
     "output_type": "stream",
     "text": [
      "\n"
     ]
    },
    {
     "data": {
      "image/png": "[encoded data removed]",
      "text/plain": [
       "<matplotlib.figure.Figure at 0x106ede9d0>"
      ]
     },
     "metadata": {},
     "output_type": "display_data"
    },
    {
     "name": "stdout",
     "output_type": "stream",
     "text": [
      "('max error: ', 14.017094395930798)\n",
      "('mean error: ', 0.15538843777146302)\n"
     ]
    },
    {
     "data": {
      "image/png": "[encoded data removed]",
      "text/plain": [
       "<matplotlib.figure.Figure at 0x1a1ad69a50>"
      ]
     },
     "metadata": {},
     "output_type": "display_data"
    }
   ],
   "source": [
    "layers = []\n",
    "\n",
    "layers.append (Linear(784,100))\n",
    "layers.append (Sigmoid ())\n",
    "layers.append (Linear(100,100))\n",
    "layers.append (Sigmoid ())\n",
    "layers.append (Linear(100,10))\n",
    "\n",
    "loss = NLLLoss()\n",
    "l_r = 0.01\n",
    "\n",
    "nn = NeuralNetwork (layers)\n",
    "run_test (train_loader, nn)"
   ]
  },
  {
   "cell_type": "markdown",
   "metadata": {},
   "source": [
    "### Часть 2: Нелинейности"
   ]
  },
  {
   "cell_type": "markdown",
   "metadata": {},
   "source": [
    "Обучите нейронную сеть с другими нелинейностями: ReLU и ELU. Сравните скорости сходимости и качество классификации с различными функциями активации."
   ]
  },
  {
   "cell_type": "markdown",
   "metadata": {},
   "source": [
    "### ReLU"
   ]
  },
  {
   "cell_type": "code",
   "execution_count": 9,
   "metadata": {
    "collapsed": true
   },
   "outputs": [],
   "source": [
    "def check_gradient(func, X, gradient):\n",
    "    '''\n",
    "    Computes numerical gradient and compares it with analytcal.\n",
    "    func: callable, function of which gradient we are interested. Example call: func(X)\n",
    "    X: np.array of size (n x m)\n",
    "    gradient: np.array of size (n x m)\n",
    "    Returns: maximum absolute diviation between numerical gradient and analytical.\n",
    "    '''\n",
    "    abs_max = 0\n",
    "    eps = 1e-6\n",
    "\n",
    "    gr = np.empty(X.shape)\n",
    "    for i in range(X.shape[0]):\n",
    "        for j in range(X.shape[1]):\n",
    "            x_r = X.copy()\n",
    "            x_l = X.copy()\n",
    "            \n",
    "            x_r[i][j] = X[i][j] + eps\n",
    "            x_l[i][j] = X[i][j] - eps\n",
    "#             print (\"real grad: \", gradient[i][j], \"we assume: \",(func(x_r) - func(x_l)).sum () / (2 * eps))             \n",
    "            gr[i][j] = (func(x_r) - func(x_l)).sum () / (2 * eps) - gradient[i][j]       \n",
    "    \n",
    "    return gr.max()"
   ]
  },
  {
   "cell_type": "code",
   "execution_count": 10,
   "metadata": {
    "collapsed": true
   },
   "outputs": [],
   "source": [
    "class ReLU:\n",
    "    def __init__(self):\n",
    "        pass\n",
    "        \n",
    "    def forward(self, X):\n",
    "        '''\n",
    "        Passes objects through this layer.\n",
    "        X is np.array of size (N, d)\n",
    "        '''\n",
    "        self.X = np.clip (X, 0, None)\n",
    "        return np.clip (X, 0, None)\n",
    "        \n",
    "    def backward(self, dLdy):\n",
    "        '''\n",
    "        1. Compute dLdx.\n",
    "        2. Return dLdx\n",
    "        '''\n",
    "        return np.multiply(dLdy, np.clip (np.ceil (self.X),0,1))\n",
    "    \n",
    "    def step(self, learning_rate):\n",
    "        pass"
   ]
  },
  {
   "cell_type": "code",
   "execution_count": 11,
   "metadata": {},
   "outputs": [
    {
     "name": "stdout",
     "output_type": "stream",
     "text": [
      "('dLdx check: ', 2.8755664516211255e-11)\n"
     ]
    }
   ],
   "source": [
    "input_size = 100\n",
    "sigm_layer = ReLU()\n",
    "N = 1000\n",
    "X = np.random.rand(N, input_size)\n",
    "sigm_layer.forward(X)\n",
    "print ('dLdx check: ', check_gradient(sigm_layer.forward, X, sigm_layer.backward(np.ones((N, input_size)))))"
   ]
  },
  {
   "cell_type": "code",
   "execution_count": 12,
   "metadata": {},
   "outputs": [
    {
     "name": "stderr",
     "output_type": "stream",
     "text": [
      "Epoch: 100%|██████████| 10/10 [01:07<00:00,  6.75s/it]"
     ]
    },
    {
     "name": "stdout",
     "output_type": "stream",
     "text": [
      "('minimum loss: ', 0.11537902590972011)\n"
     ]
    },
    {
     "name": "stderr",
     "output_type": "stream",
     "text": [
      "\n"
     ]
    },
    {
     "data": {
      "image/png": "[encoded data removed]",
      "text/plain": [
       "<matplotlib.figure.Figure at 0x1a1c62f710>"
      ]
     },
     "metadata": {},
     "output_type": "display_data"
    },
    {
     "name": "stdout",
     "output_type": "stream",
     "text": [
      "('max error: ', 18.104540393313023)\n",
      "('mean error: ', 0.4013789729039286)\n"
     ]
    },
    {
     "data": {
      "image/png": "[encoded data removed]",
      "text/plain": [
       "<matplotlib.figure.Figure at 0x1a1c614610>"
      ]
     },
     "metadata": {},
     "output_type": "display_data"
    }
   ],
   "source": [
    "layers = []\n",
    "\n",
    "layers.append (Linear(784,100))\n",
    "layers.append (ReLU ())\n",
    "layers.append (Linear(100,100))\n",
    "layers.append (ReLU ())\n",
    "layers.append (Linear(100,10))\n",
    "\n",
    "loss = NLLLoss()\n",
    "l_r = 0.00005\n",
    "\n",
    "nn = NeuralNetwork (layers)\n",
    "run_test (train_loader, nn)"
   ]
  },
  {
   "cell_type": "markdown",
   "metadata": {},
   "source": [
    "### ELU"
   ]
  },
  {
   "cell_type": "code",
   "execution_count": 13,
   "metadata": {
    "collapsed": true
   },
   "outputs": [],
   "source": [
    "def down_elu(a, x):\n",
    "    return a * (np.exp(x) - 1)\n",
    "def back_down_elu (a, x):\n",
    "    return a * np.exp (x)\n",
    "\n",
    "\n",
    "class ELU:\n",
    "    def __init__(self, a):\n",
    "        self.a = a\n",
    "        pass\n",
    "        \n",
    "    def forward(self, X):\n",
    "        '''\n",
    "        Passes objects through this layer.\n",
    "        X is np.array of size (N, d)\n",
    "        '''\n",
    "        self.X = X\n",
    "        return np.where (self.X > 0, self.X, self.a * (np.exp (self.X) - 1))\n",
    "        \n",
    "    def backward(self, dLdy):\n",
    "        '''\n",
    "        1. Compute dLdx.\n",
    "        2. Return dLdx\n",
    "        '''\n",
    "        ret = np.where (self.X > 0, 1 , self.a * np.exp (self.X))                 \n",
    "        return np.multiply (dLdy, ret)\n",
    "    \n",
    "    def step(self, learning_rate):\n",
    "        pass"
   ]
  },
  {
   "cell_type": "code",
   "execution_count": 14,
   "metadata": {},
   "outputs": [
    {
     "name": "stdout",
     "output_type": "stream",
     "text": [
      "('dLdx check: ', 5.1695869807133477e-11)\n"
     ]
    }
   ],
   "source": [
    "input_size = 10\n",
    "sigm_layer = ELU(1)\n",
    "N = 5\n",
    "X = np.random.rand(N, input_size) - 0.5\n",
    "sigm_layer.forward(X)\n",
    "print ('dLdx check: ', check_gradient(sigm_layer.forward, X, sigm_layer.backward(np.ones((N, input_size)))))"
   ]
  },
  {
   "cell_type": "code",
   "execution_count": 15,
   "metadata": {},
   "outputs": [
    {
     "name": "stderr",
     "output_type": "stream",
     "text": [
      "Epoch: 100%|██████████| 10/10 [01:10<00:00,  7.01s/it]"
     ]
    },
    {
     "name": "stdout",
     "output_type": "stream",
     "text": [
      "('minimum loss: ', 0.064300307276971683)\n"
     ]
    },
    {
     "name": "stderr",
     "output_type": "stream",
     "text": [
      "\n"
     ]
    },
    {
     "data": {
      "image/png": "[encoded data removed]",
      "text/plain": [
       "<matplotlib.figure.Figure at 0x1a1d2b0e50>"
      ]
     },
     "metadata": {},
     "output_type": "display_data"
    },
    {
     "name": "stdout",
     "output_type": "stream",
     "text": [
      "('max error: ', 17.495531830719347)\n",
      "('mean error: ', 0.30471408841258862)\n"
     ]
    },
    {
     "data": {
      "image/png": "[encoded data removed]",
      "text/plain": [
       "<matplotlib.figure.Figure at 0x1a1ad05e10>"
      ]
     },
     "metadata": {},
     "output_type": "display_data"
    }
   ],
   "source": [
    "layers = []\n",
    "\n",
    "layers.append (Linear(784,100))\n",
    "layers.append (ELU (1))\n",
    "layers.append (Linear(100,100))\n",
    "layers.append (ELU (1))\n",
    "layers.append (Linear(100,10))\n",
    "\n",
    "loss = NLLLoss()\n",
    "l_r = 0.0001\n",
    "\n",
    "nn = NeuralNetwork (layers)\n",
    "run_test (train_loader, nn)"
   ]
  },
  {
   "cell_type": "markdown",
   "metadata": {},
   "source": [
    "### Часть 3: Предобработка данных"
   ]
  },
  {
   "cell_type": "markdown",
   "metadata": {},
   "source": [
    "Посчитайте на всей обучающей выборке матрицу ковариации и среднее. Нормализуйте данные по схеме: вычесть среднее, декоррелировать, нормировать дисперсию. Сравните графики обучения на одной и той же архитектуре с и без предобработки."
   ]
  },
  {
   "cell_type": "code",
   "execution_count": 16,
   "metadata": {
    "collapsed": true
   },
   "outputs": [],
   "source": [
    "from scipy.linalg import sqrtm"
   ]
  },
  {
   "cell_type": "code",
   "execution_count": 17,
   "metadata": {
    "collapsed": true
   },
   "outputs": [],
   "source": [
    "X_train = train_dataset.train_data.view(train_dataset.train_data.size(0), -1).numpy()*1.0\n",
    "y_train = train_dataset.train_labels.numpy()\n",
    "\n",
    "\n",
    "X_test = test_dataset.test_data.view(test_dataset.test_data.size(0), -1).numpy()*1.0\n",
    "y_test = test_dataset.test_labels.numpy ()"
   ]
  },
  {
   "cell_type": "code",
   "execution_count": 18,
   "metadata": {
    "collapsed": true
   },
   "outputs": [],
   "source": [
    "mean = X_train.mean ()\n",
    "\n",
    "X_train =X_train - mean\n",
    "X_test = X_test - mean"
   ]
  },
  {
   "cell_type": "code",
   "execution_count": 19,
   "metadata": {
    "collapsed": true
   },
   "outputs": [],
   "source": [
    "cov = X_train.T.dot(X_train) / len (X_train)"
   ]
  },
  {
   "cell_type": "code",
   "execution_count": 20,
   "metadata": {
    "collapsed": true
   },
   "outputs": [],
   "source": [
    "cov = cov + np.eye(len(cov))*1e-2"
   ]
  },
  {
   "cell_type": "code",
   "execution_count": 21,
   "metadata": {
    "collapsed": true
   },
   "outputs": [],
   "source": [
    "X_train = X_train.dot(np.linalg.inv(sqrtm(cov))).real\n",
    "X_test = X_test.dot(np.linalg.inv(sqrtm(cov))).real"
   ]
  },
  {
   "cell_type": "code",
   "execution_count": 22,
   "metadata": {
    "collapsed": true
   },
   "outputs": [],
   "source": [
    "from torch.utils.data import DataLoader, Dataset"
   ]
  },
  {
   "cell_type": "code",
   "execution_count": 23,
   "metadata": {
    "collapsed": true
   },
   "outputs": [],
   "source": [
    "class dataset_try(Dataset):\n",
    "    def __init__(self, X, y):\n",
    "        self.X = X\n",
    "        self.y = y\n",
    "        \n",
    "    def __len__(self):\n",
    "        return self.X.shape[0]\n",
    "    \n",
    "    def __getitem__(self, idx):\n",
    "        return self.X[idx], self.y[idx]"
   ]
  },
  {
   "cell_type": "code",
   "execution_count": 24,
   "metadata": {
    "collapsed": true
   },
   "outputs": [],
   "source": [
    "d = dataset_try (X_train.real, y_train)\n",
    "new_data_loader = DataLoader (d, batch_size=200, shuffle=True)\n",
    "\n",
    "d_test = dataset_try (X_test.real, y_test)\n",
    "new_test_loader = DataLoader (d, batch_size=1000)"
   ]
  },
  {
   "cell_type": "code",
   "execution_count": 25,
   "metadata": {
    "collapsed": true
   },
   "outputs": [],
   "source": [
    "try:\n",
    "    import IPython\n",
    "    clear_output = IPython.core.display.clear_output\n",
    "except:\n",
    "    IPython = None"
   ]
  },
  {
   "cell_type": "code",
   "execution_count": 26,
   "metadata": {
    "collapsed": true
   },
   "outputs": [],
   "source": [
    "from sklearn.metrics import log_loss\n",
    "ClassNum = 10\n",
    "def run_test_dec (cov, nn):\n",
    "    ClassNum=10\n",
    "    error = []\n",
    "    x_error = []\n",
    "\n",
    "\n",
    "    prev = 10\n",
    "    it = 0\n",
    "    for epoch in range (10):\n",
    "        for batch, label in new_data_loader:\n",
    "#             clear_output ()\n",
    "            X = batch\n",
    "            y = label\n",
    "            X = X.numpy()\n",
    "            y = y.numpy()\n",
    "            bina = binarizer (y)\n",
    "            res = nn.forward (X)\n",
    "            result_io = loss.forward(res, y)\n",
    "            error.append (log_loss(y, result_io, labels=[0, 1, 2, 3, 4, 5, 6, 7, 8, 9]))\n",
    "            sys.stdout.write(('\\r {} {}').format (epoch, error[-1]))\n",
    "            nn.backward (loss.backward ())\n",
    "            nn.step (l_r)\n",
    "                \n",
    "    print (\"minimum loss: \", min(error))\n",
    "    plt.figure (figsize=(15,5))\n",
    "    plt.plot (error)\n",
    "    plt.show ()\n",
    "    \n",
    "    error = []\n",
    "    for batch, label in new_test_loader:\n",
    "        X = batch\n",
    "        y = label\n",
    "        X = X.numpy()\n",
    "        y = y.numpy()\n",
    "        bina = binarizer (y)\n",
    "        res = nn.forward (X)\n",
    "        result_io = loss.forward(res, y)\n",
    "        error.append (log_loss(y, result_io, labels=[0, 1, 2, 3, 4, 5, 6, 7, 8, 9]))\n",
    "\n",
    "    print (\"max loss: \", max (error))\n",
    "    print (\"mean error: \", np.array(error).mean ())\n",
    "\n",
    "\n",
    "    plt.figure (figsize=(15,5))\n",
    "    plt.hist (error, bins=1000, log=True)\n",
    "    plt.show ()"
   ]
  },
  {
   "cell_type": "code",
   "execution_count": 27,
   "metadata": {},
   "outputs": [
    {
     "name": "stdout",
     "output_type": "stream",
     "text": [
      " 9 0.0495371915985('minimum loss: ', 0.0096173868449691505)\n"
     ]
    },
    {
     "data": {
      "image/png": "[encoded data removed]",
      "text/plain": [
       "<matplotlib.figure.Figure at 0x10b56ac10>"
      ]
     },
     "metadata": {},
     "output_type": "display_data"
    },
    {
     "name": "stdout",
     "output_type": "stream",
     "text": [
      "('max loss: ', 0.043489520940862197)\n",
      "('mean error: ', 0.025519191076383986)\n"
     ]
    },
    {
     "data": {
      "image/png": "[encoded data removed]",
      "text/plain": [
       "<matplotlib.figure.Figure at 0x1a1c822cd0>"
      ]
     },
     "metadata": {},
     "output_type": "display_data"
    }
   ],
   "source": [
    "layers = []\n",
    "\n",
    "layers.append (Linear(784,100))\n",
    "layers.append (ELU (1))\n",
    "layers.append (Linear(100,100))\n",
    "layers.append (ELU (1))\n",
    "layers.append (Linear(100,10))\n",
    "\n",
    "loss = NLLLoss()\n",
    "l_r = 0.001\n",
    "\n",
    "\n",
    "nn = NeuralNetwork (layers)\n",
    "\n",
    "run_test_dec (cov, nn)"
   ]
  },
  {
   "cell_type": "markdown",
   "metadata": {},
   "source": [
    "### Часть 4: Выводы\n",
    "Опишите полученные результаты: как влияют выбор нелинейности и предобработка данных на скорость сходимости и итоговое качество?"
   ]
  },
  {
   "cell_type": "markdown",
   "metadata": {},
   "source": [
    "хуже всех справился elu лучше всех - sigmoid\n",
    "\n",
    "Данные прошедшие предобработку позволяют достичь намного лучшей точности"
   ]
  }
 ],
 "metadata": {
  "kernelspec": {
   "display_name": "Python 2",
   "language": "python",
   "name": "python2"
  },
  "language_info": {
   "codemirror_mode": {
    "name": "ipython",
    "version": 2
   },
   "file_extension": ".py",
   "mimetype": "text/x-python",
   "name": "python",
   "nbconvert_exporter": "python",
   "pygments_lexer": "ipython2",
   "version": "2.7.13"
  }
 },
 "nbformat": 4,
 "nbformat_minor": 2
}
