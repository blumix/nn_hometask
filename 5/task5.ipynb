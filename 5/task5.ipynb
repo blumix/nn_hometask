{
 "cells": [
  {
   "cell_type": "markdown",
   "metadata": {},
   "source": [
    "## Семинар 5: \"Улучшение сходимости нейросетей\""
   ]
  },
  {
   "cell_type": "markdown",
   "metadata": {},
   "source": [
    "ФИО:Белозёров Михаил Сергеевич"
   ]
  },
  {
   "cell_type": "code",
   "execution_count": 1,
   "metadata": {},
   "outputs": [
    {
     "name": "stderr",
     "output_type": "stream",
     "text": [
      "/Users/mikhailbelozerov/anaconda2/lib/python2.7/site-packages/sklearn/cross_validation.py:41: DeprecationWarning: This module was deprecated in version 0.18 in favor of the model_selection module into which all the refactored classes and functions are moved. Also note that the interface of the new CV iterators are different from that of this module. This module will be removed in 0.20.\n",
      "  \"This module will be removed in 0.20.\", DeprecationWarning)\n"
     ]
    }
   ],
   "source": [
    "import numpy as np\n",
    "from sklearn.datasets import fetch_mldata\n",
    "from sklearn.cross_validation import train_test_split\n",
    "import matplotlib.pyplot as plt\n",
    "import torch\n",
    "from torch import nn\n",
    "from torch.autograd import Variable\n",
    "from torch.utils.data import DataLoader\n",
    "from torchvision.datasets import MNIST\n",
    "from torchvision import transforms\n",
    "import torch.nn.functional as f\n",
    "\n",
    "\n",
    "%matplotlib inline"
   ]
  },
  {
   "cell_type": "markdown",
   "metadata": {},
   "source": [
    "На этом семинаре мы попробуем улучшить результаты, полученные на предыдущем занятии\n",
    "Для этого нам понадобятся следующие вещи:\n",
    "* Dropout\n",
    "* Batch Normalization\n",
    "* Инициализация весов"
   ]
  },
  {
   "cell_type": "markdown",
   "metadata": {},
   "source": [
    "### Часть 1: Инициализация весов"
   ]
  },
  {
   "cell_type": "markdown",
   "metadata": {},
   "source": [
    "На лекции доказывалось, что при инициализации He и Glorot дисперсия активаций градиентов в каждом слое будут примерно равны. Давайте проверим это. "
   ]
  },
  {
   "cell_type": "code",
   "execution_count": 2,
   "metadata": {},
   "outputs": [],
   "source": [
    "# Dataloader\n",
    "to_numpy = lambda x: x.numpy()\n",
    "transform = transforms.Compose([\n",
    "                       transforms.ToTensor(),\n",
    "                       transforms.Normalize((0.1307,), (0.3081,))\n",
    "                    ])\n",
    "train_dataset = MNIST('.', train=True, download=True, transform=transform)\n",
    "test_dataset = MNIST('.', train=False, transform=transform)\n",
    "\n",
    "train_loader = DataLoader(train_dataset, batch_size=500, shuffle=True)\n",
    "test_loader = DataLoader(test_dataset, batch_size=5, shuffle=True)"
   ]
  },
  {
   "cell_type": "code",
   "execution_count": 3,
   "metadata": {},
   "outputs": [],
   "source": [
    "## Usage example:\n",
    "for X, y in train_loader:\n",
    "    X = X.view(X.size(0), -1)\n",
    "    X = X.numpy() ### Converts torch.Tensor to numpy array\n",
    "    y = y.numpy()\n",
    "    pass"
   ]
  },
  {
   "cell_type": "code",
   "execution_count": 4,
   "metadata": {},
   "outputs": [
    {
     "data": {
      "image/png": "[encoded data removed]",
      "text/plain": [
       "<matplotlib.figure.Figure at 0x1a11302b50>"
      ]
     },
     "metadata": {},
     "output_type": "display_data"
    }
   ],
   "source": [
    "plt.figure(figsize=(6, 7))\n",
    "for i in range(25):\n",
    "    plt.subplot(5, 5, i+1)\n",
    "    plt.imshow(X[i].reshape(28, 28), cmap=plt.cm.Greys_r)\n",
    "    plt.title(y[i])\n",
    "    plt.axis('off')"
   ]
  },
  {
   "cell_type": "markdown",
   "metadata": {},
   "source": [
    "<i> 1.1 </i> Инициализируйте полносвязную сеть нормальным шумом N(0, 0.1) с архитектурой 784 -> 500 x (10 раз) -> 10. В качестве активации возьмите tanh"
   ]
  },
  {
   "cell_type": "code",
   "execution_count": 5,
   "metadata": {},
   "outputs": [],
   "source": [
    "def init_layer(layer, mean=0, std=0.1):\n",
    "    # Тут надо быть аккуратным — можно случайно создать копию и менять значения у копии\n",
    "    weight = layer.state_dict()['weight']\n",
    "    bias = layer.state_dict()['bias']\n",
    "    bias.zero_()\n",
    "    weight.normal_(mean=0, std=1)\n",
    "\n",
    "def forward_hook(self, input_, output):\n",
    "    std = input_[0].std().data[0]\n",
    "    print 'forward', std\n",
    "\n",
    "def backward_hook(self, grad_input, grad_output):\n",
    "    std = grad_input[1].std().data[0]\n",
    "    print 'backward', std\n",
    "\n",
    "    \n",
    "# пример:\n",
    "layer = nn.Linear(28*28, 10)\n",
    "layer.register_forward_hook(forward_hook)\n",
    "layer.register_backward_hook(backward_hook)\n",
    "init_layer(layer, 0.0, 0.1) # сюда надо подставить другие параметры"
   ]
  },
  {
   "cell_type": "code",
   "execution_count": 6,
   "metadata": {},
   "outputs": [],
   "source": [
    "class myNN(nn.Module):\n",
    "    def __init__(self, init_layer):\n",
    "        super(myNN, self).__init__()\n",
    "        layer = nn.Linear(784, 500)\n",
    "        layer.register_forward_hook(forward_hook)\n",
    "        layer.register_backward_hook(backward_hook)\n",
    "        init_layer(layer)\n",
    "        layers = [layer]\n",
    "        layers.append (nn.Tanh ())\n",
    "        for i in range (0, 10):\n",
    "            layer = nn.Linear(500, 500)\n",
    "            layer.register_forward_hook(forward_hook)\n",
    "            layer.register_backward_hook(backward_hook)\n",
    "            init_layer(layer)\n",
    "            layers.append (layer)\n",
    "            layers.append (nn.Tanh ())\n",
    "            \n",
    "        layer = nn.Linear(500, 10)\n",
    "        layer.register_forward_hook(forward_hook)\n",
    "        layer.register_backward_hook(backward_hook)\n",
    "        init_layer(layer)\n",
    "        layers.append (layer)\n",
    "        layers.append (nn.LogSoftmax())\n",
    "        self.linear_layers = nn.Sequential(*layers)\n",
    "    def forward (self, X):\n",
    "        return self.linear_layers (X)"
   ]
  },
  {
   "cell_type": "markdown",
   "metadata": {},
   "source": [
    "<i>1.2 Пропустите батч изображений через нейронную сеть и вычислите дисперсию активаций. Затем вычислите градиент и получите дисперсию градиентов. Сравните эти значения между собой для разных слоев.</i>"
   ]
  },
  {
   "cell_type": "code",
   "execution_count": 7,
   "metadata": {},
   "outputs": [],
   "source": [
    "##### YOUR CODE HERE #####\n",
    "def test_reg (init_layer):\n",
    "    my_nn = myNN (init_layer)\n",
    "\n",
    "\n",
    "    for images_train, labels_train in train_loader:\n",
    "        n_objects = 100\n",
    "        X = Variable(images_train[:n_objects], requires_grad=True).view(n_objects, -1)\n",
    "        y = Variable(labels_train[:n_objects], requires_grad=False)\n",
    "        activations = my_nn(X)\n",
    "        loss_fn = torch.nn.NLLLoss()\n",
    "        optimizer = torch.optim.Adam(my_nn.parameters (), lr=0.001) \n",
    "        loss = loss_fn(activations, y)\n",
    "        loss.backward()\n",
    "        break"
   ]
  },
  {
   "cell_type": "code",
   "execution_count": 8,
   "metadata": {},
   "outputs": [
    {
     "name": "stdout",
     "output_type": "stream",
     "text": [
      "forward 1.00613951683\n",
      "forward 0.984783768654\n",
      "forward 0.981730043888\n",
      "forward 0.982196092606\n",
      "forward 0.981765508652\n",
      "forward 0.980926454067\n",
      "forward 0.98152077198\n",
      "forward 0.981136202812\n",
      "forward 0.981257200241\n",
      "forward 0.982105672359\n",
      "forward 0.981149017811\n",
      "forward 0.981944262981\n",
      "backward 0.0130865545943\n",
      "backward 0.0459733940661\n",
      "backward 0.167957499623\n",
      "backward 0.602916777134\n",
      "backward 2.05914926529\n",
      "backward 6.89683389664\n",
      "backward 23.7764225006\n",
      "backward 83.9314880371\n",
      "backward 280.113891602\n",
      "backward 993.303527832\n",
      "backward 3411.87158203\n",
      "backward 10933.9814453\n"
     ]
    }
   ],
   "source": [
    "test_reg (init_layer)"
   ]
  },
  {
   "cell_type": "markdown",
   "metadata": {},
   "source": [
    "<i>1.3 Повторите эксперимент для инициализаций He и Xavier (формулы есть в лекции).</i>"
   ]
  },
  {
   "cell_type": "code",
   "execution_count": 9,
   "metadata": {},
   "outputs": [],
   "source": [
    "##### YOUR CODE HERE #####\n",
    "import math\n",
    "def init_layer_glorot(layer):\n",
    "    # Тут надо быть аккуратным — можно случайно создать копию и менять значения у копии\n",
    "    weight = layer.state_dict()['weight']\n",
    "    bias = layer.state_dict()['bias']\n",
    "    bias.zero_()\n",
    "    std = math.sqrt (6.) / (weight.shape[0] + weight.shape[1])\n",
    "    weight.uniform_(-std,std)"
   ]
  },
  {
   "cell_type": "code",
   "execution_count": 10,
   "metadata": {},
   "outputs": [],
   "source": [
    "def init_layer_he(layer):\n",
    "    # Тут надо быть аккуратным — можно случайно создать копию и менять значения у копии\n",
    "    weight = layer.state_dict()['weight']\n",
    "    bias = layer.state_dict()['bias']\n",
    "    bias.zero_()\n",
    "    weight.normal_(0,2. / (weight.shape[0]))"
   ]
  },
  {
   "cell_type": "code",
   "execution_count": 11,
   "metadata": {},
   "outputs": [
    {
     "name": "stdout",
     "output_type": "stream",
     "text": [
      "GLOROT:\n",
      "forward 0.995755970478\n",
      "forward 0.0310155153275\n",
      "forward 0.000979430042207\n",
      "forward 3.04703462461e-05\n",
      "forward 9.631961575e-07\n",
      "forward 3.00759701588e-08\n",
      "forward 9.31036414631e-10\n",
      "forward 2.99175718921e-11\n",
      "forward 9.37628663947e-13\n",
      "forward 2.92503312695e-14\n",
      "forward 9.35950019134e-16\n",
      "forward 2.99613883766e-17\n",
      "backward 2.62667253992e-05\n",
      "backward 8.3752070168e-07\n",
      "backward 2.63990997951e-08\n",
      "backward 8.2320772421e-10\n",
      "backward 2.57610807686e-11\n",
      "backward 8.24999790705e-13\n",
      "backward 2.6235812161e-14\n",
      "backward 8.407991024e-16\n",
      "backward 2.7093164418e-17\n",
      "backward 8.40922150479e-19\n",
      "backward 2.63851002177e-20\n",
      "backward 6.51608346851e-22\n",
      "\n",
      "HE:\n",
      "forward 0.984281480312\n",
      "forward 0.108745582402\n",
      "forward 0.00999993551522\n",
      "forward 0.000878700637259\n",
      "forward 7.8891600424e-05\n",
      "forward 6.98048052072e-06\n",
      "forward 6.20904756943e-07\n",
      "forward 5.54778161188e-08\n",
      "forward 4.9089696752e-09\n",
      "forward 4.44241421427e-10\n",
      "forward 3.95327520719e-11\n",
      "forward 3.45665141475e-12\n",
      "backward 0.0018553918926\n",
      "backward 0.000166845798958\n",
      "backward 1.48859844558e-05\n",
      "backward 1.31761703415e-06\n",
      "backward 1.19476908367e-07\n",
      "backward 1.07175575081e-08\n",
      "backward 9.56267065533e-10\n",
      "backward 8.51204176588e-11\n",
      "backward 7.46091643328e-12\n",
      "backward 6.75012671626e-13\n",
      "backward 6.02751288009e-14\n",
      "backward 5.37470399472e-15\n"
     ]
    }
   ],
   "source": [
    "print \"GLOROT:\"\n",
    "test_reg (init_layer_glorot)\n",
    "print \"\"\n",
    "print \"HE:\"\n",
    "test_reg (init_layer_he)"
   ]
  },
  {
   "cell_type": "markdown",
   "metadata": {},
   "source": [
    "<i> 1.4 Сделайте выводы по первой части </i>"
   ]
  },
  {
   "cell_type": "markdown",
   "metadata": {},
   "source": [
    "Проблема взрывающихся градиентов была решена, но достичь сохранения нормы градиента не вышло - теперь он затухает. Для нелинейности  tanh лучше подходит He благодаря меньшей скорости убывания градиента"
   ]
  },
  {
   "cell_type": "markdown",
   "metadata": {},
   "source": [
    "### Часть 2: Dropout"
   ]
  },
  {
   "cell_type": "markdown",
   "metadata": {},
   "source": [
    "Другим полезным слоем является Dropout. В нем с вероятностью 1-p зануляется выход каждого нейрона. Этот слой уже реализован в pyTorch, поэтому вновь реализовывать его не интересно. Давайте реализуем DropConnect — аналог Dropout. В нем с вероятностью 1-p зануляется каждый вес слоя."
   ]
  },
  {
   "cell_type": "markdown",
   "metadata": {},
   "source": [
    "<i> 2.1 Реализуйте линейный слой с DropConnect </i>"
   ]
  },
  {
   "cell_type": "code",
   "execution_count": 12,
   "metadata": {},
   "outputs": [],
   "source": [
    "# полезная функция: .bernoulli_(p)\n",
    "# не забывайте делать requires_grad=False у маски\n",
    "# помните, что в вычислениях должны участвовать Variable, а не тензоры\n",
    "# не забывайте, что в pyTorch нету broadcasting (делайте .expand)\n",
    "\n",
    "class DropConnect(nn.Module):\n",
    "    def __init__(self, input_dim, output_dim, p=0.5):\n",
    "        super(DropConnect, self).__init__()\n",
    "        self.weight = nn.Parameter (torch.Tensor(input_dim, output_dim).normal_ (0,0.1), requires_grad=True)\n",
    "        self.bias = nn.Parameter (torch.Tensor(1, output_dim).normal_ (0,0.0001), requires_grad=True)\n",
    "        self.w_ber = Variable (torch.Tensor(input_dim, output_dim), requires_grad=False)\n",
    "        self.b_ber = Variable (torch.Tensor(1, output_dim), requires_grad=False)\n",
    "        self.p = p\n",
    "\n",
    "    def forward(self, x, training=True):\n",
    "        if training:\n",
    "            self.w_ber.data.bernoulli_ (self.p)\n",
    "            w = torch.mul (self.weight, self.w_ber)\n",
    "            res = x.mm (w)\n",
    "            self.b_ber.data.bernoulli_ (self.p)\n",
    "            b = torch.mul (self.bias, self.b_ber)\n",
    "            return res + b\n",
    "        else:\n",
    "            output = self.weight * x * self.p + self.bias * self.p\n",
    "        return output"
   ]
  },
  {
   "cell_type": "markdown",
   "metadata": {},
   "source": [
    "<i> \n",
    "2.2 Сравните графики обучения нейроных сетей:\n",
    "1. 784 -> 200 -> 200 -> 10 с ReLU и Dropout между всеми слоями \n",
    "2. 784 -> 200 -> 200 -> 10 с ReLU DropConnect вместо всех линейных слоев\n",
    "</i>"
   ]
  },
  {
   "cell_type": "code",
   "execution_count": 13,
   "metadata": {},
   "outputs": [],
   "source": [
    "class myNNNODrop(nn.Module):\n",
    "    def __init__(self):\n",
    "        super(myNNNODrop, self).__init__()\n",
    "        layers = []\n",
    "        \n",
    "        layers.append (nn.Linear (784, 200))\n",
    "        layers.append (nn.ReLU ())\n",
    "        layers.append (nn.Linear (200, 200))\n",
    "        layers.append (nn.ReLU ())\n",
    "        layers.append (nn.Linear (200, 10))\n",
    "        layers.append (nn.LogSoftmax())\n",
    "        self.linear_layers = nn.Sequential(*layers)\n",
    "        self.training = True\n",
    "    def forward (self, X):\n",
    "        return self.linear_layers (X)"
   ]
  },
  {
   "cell_type": "code",
   "execution_count": 14,
   "metadata": {},
   "outputs": [],
   "source": [
    "class myNNDropConnect(nn.Module):\n",
    "    def __init__(self):\n",
    "        super(myNNDropConnect, self).__init__()\n",
    "        layers = []\n",
    "        \n",
    "        layers.append (DropConnect (784, 200))\n",
    "        layers.append (nn.ReLU ())\n",
    "        layers.append (DropConnect (200, 200))\n",
    "        layers.append (nn.ReLU ())\n",
    "        layers.append (DropConnect (200, 10))\n",
    "        layers.append (nn.LogSoftmax())\n",
    "        self.linear_layers = nn.Sequential(*layers)\n",
    "        self.training = True\n",
    "    def forward (self, X):\n",
    "        return self.linear_layers (X)"
   ]
  },
  {
   "cell_type": "code",
   "execution_count": 15,
   "metadata": {},
   "outputs": [],
   "source": [
    "class myNNDropOut(nn.Module):\n",
    "    def __init__(self):\n",
    "        super(myNNDropOut, self).__init__()\n",
    "        layers = []\n",
    "        layers.append (nn.Linear (784, 200))\n",
    "        layers.append (nn.Dropout ())\n",
    "        layers.append (nn.ReLU ())\n",
    "        layers.append (nn.Linear (200, 200))\n",
    "        layers.append (nn.Dropout ())\n",
    "        layers.append (nn.ReLU ())\n",
    "        layers.append (nn.Linear (200, 10))\n",
    "        layers.append (nn.LogSoftmax())\n",
    "        self.linear_layers = nn.Sequential(*layers)\n",
    "        self.training = True\n",
    "    def forward (self, X):\n",
    "        return self.linear_layers (X)"
   ]
  },
  {
   "cell_type": "code",
   "execution_count": 16,
   "metadata": {},
   "outputs": [],
   "source": [
    "import sys\n",
    "loss_fn = torch.nn.NLLLoss()\n",
    "\n",
    "\n",
    "def train_drop_connect (my_nn, max_epoch=10):\n",
    "    optimizer = torch.optim.Adam(my_nn.parameters(), lr=0.001) \n",
    "    my_nn.training = True\n",
    "    loss_m = []\n",
    "    for epoch in xrange (max_epoch):\n",
    "        for images_train, labels_train in train_loader:\n",
    "            optimizer.zero_grad ()\n",
    "            X = Variable(images_train, requires_grad=True).view(images_train.size(0), -1)\n",
    "            y = Variable(labels_train, requires_grad=False)\n",
    "            activations = my_nn(X)\n",
    "            loss = loss_fn(activations, y)\n",
    "            loss_m.append (loss.data.mean ())\n",
    "            sys.stdout.write (('\\r Epoch:{}/{} -- Loss:{}').format (epoch, max_epoch, loss_m[-1]))\n",
    "            loss.backward()\n",
    "            optimizer.step ()\n",
    "    plt.plot (loss_m)\n",
    "    plt.show ()\n",
    "\n",
    "def test_drop_connect (my_nn):\n",
    "    error = []\n",
    "    my_nn.training = False\n",
    "\n",
    "\n",
    "    for x, y in test_loader:\n",
    "            X = Variable(x).view(x.size(0), -1)\n",
    "            y = Variable(y, requires_grad=False)\n",
    "            output = my_nn.forward(X)\n",
    "            loss = loss_fn(output, y)\n",
    "            error.append (loss.data.mean ())\n",
    "    plt.hist (error, log=True, bins=1000)\n",
    "    print \"error mean:\", np.array (error).mean ()"
   ]
  },
  {
   "cell_type": "code",
   "execution_count": 17,
   "metadata": {},
   "outputs": [
    {
     "name": "stdout",
     "output_type": "stream",
     "text": [
      " Epoch:49/50 -- Loss:0.0714037343862"
     ]
    },
    {
     "data": {
      "image/png": "[encoded data removed]",
      "text/plain": [
       "<matplotlib.figure.Figure at 0x107952cd0>"
      ]
     },
     "metadata": {},
     "output_type": "display_data"
    },
    {
     "name": "stdout",
     "output_type": "stream",
     "text": [
      "\n",
      "error mean: 0.113414068863\n"
     ]
    },
    {
     "data": {
      "image/png": "[encoded data removed]",
      "text/plain": [
       "<matplotlib.figure.Figure at 0x1a11264c10>"
      ]
     },
     "metadata": {},
     "output_type": "display_data"
    }
   ],
   "source": [
    "my_nn = myNNDropConnect ()\n",
    "\n",
    "train_drop_connect (my_nn, max_epoch=50)\n",
    "print \n",
    "test_drop_connect (my_nn)"
   ]
  },
  {
   "cell_type": "code",
   "execution_count": 18,
   "metadata": {},
   "outputs": [
    {
     "name": "stdout",
     "output_type": "stream",
     "text": [
      " Epoch:49/50 -- Loss:0.0487825796008"
     ]
    },
    {
     "data": {
      "image/png": "[encoded data removed]",
      "text/plain": [
       "<matplotlib.figure.Figure at 0x1a1125b5d0>"
      ]
     },
     "metadata": {},
     "output_type": "display_data"
    },
    {
     "name": "stdout",
     "output_type": "stream",
     "text": [
      "\n",
      "error mean: 0.143876534825\n"
     ]
    },
    {
     "data": {
      "image/png": "[encoded data removed]",
      "text/plain": [
       "<matplotlib.figure.Figure at 0x1a18abea50>"
      ]
     },
     "metadata": {},
     "output_type": "display_data"
    }
   ],
   "source": [
    "my_nn = myNNDropOut ()\n",
    "\n",
    "train_drop_connect (my_nn, max_epoch=50)\n",
    "print \n",
    "test_drop_connect (my_nn)"
   ]
  },
  {
   "cell_type": "code",
   "execution_count": 19,
   "metadata": {},
   "outputs": [
    {
     "name": "stdout",
     "output_type": "stream",
     "text": [
      " Epoch:9/10 -- Loss:0.03187799453741"
     ]
    },
    {
     "data": {
      "image/png": "[encoded data removed]",
      "text/plain": [
       "<matplotlib.figure.Figure at 0x106c75d50>"
      ]
     },
     "metadata": {},
     "output_type": "display_data"
    },
    {
     "name": "stdout",
     "output_type": "stream",
     "text": [
      "\n",
      "error mean: 0.0668627486979\n"
     ]
    },
    {
     "data": {
      "image/png": "[encoded data removed]",
      "text/plain": [
       "<matplotlib.figure.Figure at 0x1a19020d50>"
      ]
     },
     "metadata": {},
     "output_type": "display_data"
    }
   ],
   "source": [
    "my_nn = myNNNODrop ()\n",
    "\n",
    "train_drop_connect (my_nn)\n",
    "print \n",
    "test_drop_connect (my_nn)"
   ]
  },
  {
   "cell_type": "markdown",
   "metadata": {},
   "source": [
    "<i> 2.3 Сделайте выводы по третьей части </i>"
   ]
  },
  {
   "cell_type": "markdown",
   "metadata": {},
   "source": [
    "Лучше всех справилась сеть без вероятностей 😭"
   ]
  },
  {
   "cell_type": "markdown",
   "metadata": {},
   "source": [
    "В test-time стохастичность Dropout убирают и заменяют все веса на их ожидаемое значение: $\\mathbb{E}w = pw + (1-p)0 = pw$."
   ]
  },
  {
   "cell_type": "markdown",
   "metadata": {},
   "source": [
    "### Часть 3: Batch Normalization"
   ]
  },
  {
   "cell_type": "markdown",
   "metadata": {},
   "source": [
    "Наконец, давайте рассмотрим Batch Normalization. Этот слой вычитает среднее и делит на стандартное отклонение. Среднее и дисперсия вычисляются по батчу независимо для каждого нейрона. У этого слоя есть две важные проблемы: его нельзя использовать при обучении с размером батча 1 и он делает элементы батча зависимыми. Давайте реализуем аналог батч нормализации: <a href=https://arxiv.org/pdf/1607.06450.pdf>Layer normalization</a>. В layer normalization среднее и дисперсия вычисляются по активациям нейронов, независимо для каждого объекта."
   ]
  },
  {
   "cell_type": "markdown",
   "metadata": {},
   "source": [
    "<i> 3.1 Реализуйте Layer Normalization </i>"
   ]
  },
  {
   "cell_type": "code",
   "execution_count": 20,
   "metadata": {},
   "outputs": [],
   "source": [
    "class LayerNorm(nn.Module):\n",
    "\n",
    "    def __init__(self):\n",
    "        super().__init__()\n",
    "        \n",
    "    def forward(self, x):\n",
    "        eps = 1e-8\n",
    "        mean = x.mean(-1, keepdim=True)\n",
    "        std = x.std(-1, keepdim=True)\n",
    "        return (x - mean) / (std + self.eps)"
   ]
  },
  {
   "cell_type": "code",
   "execution_count": 21,
   "metadata": {},
   "outputs": [],
   "source": [
    "# полезные функции: .std(dim), .mean(dim)\n",
    "# не забывайте, что в pyTorch нету broadcasting (делайте .expand)\n",
    "\n",
    "class LayerNormalization(nn.Module):\n",
    "    def forward(self, x):\n",
    "        return f.normalize (x)"
   ]
  },
  {
   "cell_type": "markdown",
   "metadata": {},
   "source": [
    "<i> \n",
    "3.2 Сравните графики обучения нейроных сетей:\n",
    "1. 784 -> 200 -> 200 -> 10 с ReLU и Batch normalization между всеми слоями \n",
    "2. 784 -> 200 -> 200 -> 10 с ReLU и Layer normalization между всеми слоями \n",
    "</i>"
   ]
  },
  {
   "cell_type": "code",
   "execution_count": 22,
   "metadata": {},
   "outputs": [],
   "source": [
    "class myNNLayerNorm(nn.Module):\n",
    "    def __init__(self):\n",
    "        super(myNNLayerNorm, self).__init__()\n",
    "        layers = []\n",
    "        layers.append (nn.Linear (784, 200))\n",
    "        layers.append (LayerNormalization ())\n",
    "        layers.append (nn.ReLU ())\n",
    "        layers.append (nn.Linear (200, 200))\n",
    "        layers.append (LayerNormalization ())\n",
    "        layers.append (nn.ReLU ())\n",
    "        layers.append (nn.Linear (200, 10))\n",
    "        layers.append (nn.LogSoftmax())\n",
    "        self.linear_layers = nn.Sequential(*layers)\n",
    "        self.training = True\n",
    "    def forward (self, X):\n",
    "        return self.linear_layers (X)"
   ]
  },
  {
   "cell_type": "code",
   "execution_count": 23,
   "metadata": {},
   "outputs": [],
   "source": [
    "class myNNBatchNorm(nn.Module):\n",
    "    def __init__(self):\n",
    "        super(myNNBatchNorm, self).__init__()\n",
    "        layers = []\n",
    "        layers.append (nn.Linear (784, 200))\n",
    "        layers.append (nn.BatchNorm2d (200))\n",
    "        layers.append (nn.ReLU ())\n",
    "        layers.append (nn.Linear (200, 200))\n",
    "        layers.append (nn.BatchNorm2d (200))\n",
    "        layers.append (nn.ReLU ())\n",
    "        layers.append (nn.Linear (200, 10))\n",
    "        layers.append (nn.LogSoftmax())\n",
    "        self.linear_layers = nn.Sequential(*layers)\n",
    "        self.training = True\n",
    "    def forward (self, X):\n",
    "        return self.linear_layers (X)"
   ]
  },
  {
   "cell_type": "code",
   "execution_count": 24,
   "metadata": {},
   "outputs": [
    {
     "name": "stdout",
     "output_type": "stream",
     "text": [
      " Epoch:9/10 -- Loss:0.0682868286967"
     ]
    },
    {
     "data": {
      "image/png": "[encoded data removed]",
      "text/plain": [
       "<matplotlib.figure.Figure at 0x105b95710>"
      ]
     },
     "metadata": {},
     "output_type": "display_data"
    },
    {
     "name": "stdout",
     "output_type": "stream",
     "text": [
      "\n",
      "error mean: 0.0956569251278\n"
     ]
    },
    {
     "data": {
      "image/png": "[encoded data removed]",
      "text/plain": [
       "<matplotlib.figure.Figure at 0x1a14e41b50>"
      ]
     },
     "metadata": {},
     "output_type": "display_data"
    }
   ],
   "source": [
    "my_nn = myNNLayerNorm ()\n",
    "\n",
    "train_drop_connect (my_nn)\n",
    "print \n",
    "test_drop_connect (my_nn)"
   ]
  },
  {
   "cell_type": "code",
   "execution_count": 25,
   "metadata": {},
   "outputs": [
    {
     "name": "stdout",
     "output_type": "stream",
     "text": [
      " Epoch:9/10 -- Loss:0.00959280133247"
     ]
    },
    {
     "data": {
      "image/png": "[encoded data removed]",
      "text/plain": [
       "<matplotlib.figure.Figure at 0x106b936d0>"
      ]
     },
     "metadata": {},
     "output_type": "display_data"
    },
    {
     "name": "stdout",
     "output_type": "stream",
     "text": [
      "\n",
      "error mean: 0.778203374607\n"
     ]
    },
    {
     "data": {
      "image/png": "[encoded data removed]",
      "text/plain": [
       "<matplotlib.figure.Figure at 0x1a196d8510>"
      ]
     },
     "metadata": {},
     "output_type": "display_data"
    }
   ],
   "source": [
    "my_nn = myNNBatchNorm ()\n",
    "\n",
    "train_drop_connect (my_nn)\n",
    "print \n",
    "test_drop_connect (my_nn)"
   ]
  },
  {
   "cell_type": "markdown",
   "metadata": {},
   "source": [
    "#### Feedback (опционально)"
   ]
  },
  {
   "cell_type": "markdown",
   "metadata": {},
   "source": [
    "Здесь вы можете оставить список опечаток из лекции или семинара:"
   ]
  },
  {
   "cell_type": "raw",
   "metadata": {},
   "source": []
  },
  {
   "cell_type": "markdown",
   "metadata": {},
   "source": [
    "Здесь вы можете оставить комментарии по лекции или семинару:"
   ]
  },
  {
   "cell_type": "raw",
   "metadata": {},
   "source": []
  }
 ],
 "metadata": {
  "kernelspec": {
   "display_name": "Python 2",
   "language": "python",
   "name": "python2"
  },
  "language_info": {
   "codemirror_mode": {
    "name": "ipython",
    "version": 2
   },
   "file_extension": ".py",
   "mimetype": "text/x-python",
   "name": "python",
   "nbconvert_exporter": "python",
   "pygments_lexer": "ipython2",
   "version": "2.7.13"
  },
  "latex_envs": {
   "bibliofile": "biblio.bib",
   "cite_by": "apalike",
   "current_citInitial": 1,
   "eqLabelWithNumbers": true,
   "eqNumInitial": 0
  }
 },
 "nbformat": 4,
 "nbformat_minor": 2
}
